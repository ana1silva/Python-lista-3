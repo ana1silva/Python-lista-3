{
  "nbformat": 4,
  "nbformat_minor": 0,
  "metadata": {
    "colab": {
      "provenance": []
    },
    "kernelspec": {
      "name": "python3",
      "display_name": "Python 3"
    },
    "language_info": {
      "name": "python"
    }
  },
  "cells": [
    {
      "cell_type": "code",
      "execution_count": 19,
      "metadata": {
        "colab": {
          "base_uri": "https://localhost:8080/"
        },
        "id": "S_0pmq5oUPvl",
        "outputId": "e166fdc6-f226-4096-8e5e-dabd8c679120"
      },
      "outputs": [
        {
          "output_type": "stream",
          "name": "stdout",
          "text": [
            "Lista de valores: [10, 20, 30, 40, 50]\n",
            "Maior número: 50\n"
          ]
        }
      ],
      "source": [
        "1.# Escreva um programa que cria uma lista de números inteiros e exibe o maior número da lista.\n",
        "# Criando uma lista de valores simples usando range()\n",
        "lista_valores = list(range(10, 60, 10))\n",
        "\n",
        "print(\"Lista de valores:\", lista_valores)\n",
        "\n",
        "maior_numero = lista_valores[0]\n",
        "\n",
        "for numero in lista_valores[1:]:\n",
        "\n",
        "    if numero > maior_numero:\n",
        "\n",
        "        maior_numero = numero\n",
        "\n",
        "\n",
        "print(\"Maior número:\", maior_numero)\n",
        "\n",
        "\n"
      ]
    },
    {
      "cell_type": "code",
      "source": [
        "2.# Escreva um programa que cria uma lista de nomes e exibe o número total de nomes na lista.\n",
        "lista_nomes = [\"Leo\", \"Maria\", \"Paulo\", \"Ana\", \"Lucas\", \"Valentina\", \"Clara\"]\n",
        "\n",
        "print(\"Lista de nomes:\", lista_nomes)\n",
        "\n",
        "\n",
        "numero_nomes = len(lista_nomes)\n",
        "\n",
        "print(\"Número total de nomes:\", numero_nomes)\n"
      ],
      "metadata": {
        "colab": {
          "base_uri": "https://localhost:8080/"
        },
        "id": "iNJulqvQZTof",
        "outputId": "56419366-fff4-44e1-9bd6-6dfe95540ea1"
      },
      "execution_count": 21,
      "outputs": [
        {
          "output_type": "stream",
          "name": "stdout",
          "text": [
            "Lista de nomes: ['Leo', 'Maria', 'Paulo', 'Ana', 'Lucas', 'Valentina', 'Clara']\n",
            "Número total de nomes: 7\n"
          ]
        }
      ]
    },
    {
      "cell_type": "code",
      "source": [
        "4.#Escreva um programa que cria uma lista de números inteiros e exibe a média dos números da lista.\n",
        "lista_numeros = [7, 8, 9, 10, 11]\n",
        "\n",
        "print(\"Lista de números:\", lista_numeros)\n",
        "\n",
        "soma = sum(lista_numeros)\n",
        "\n",
        "media = soma / len(lista_numeros)\n",
        "\n",
        "print(\"Média:\", media)\n"
      ],
      "metadata": {
        "colab": {
          "base_uri": "https://localhost:8080/"
        },
        "id": "QIf77ZGNiHbG",
        "outputId": "1a277f37-eb9c-45bf-a71d-b27664be98be"
      },
      "execution_count": 24,
      "outputs": [
        {
          "output_type": "stream",
          "name": "stdout",
          "text": [
            "Lista de números: [7, 8, 9, 10, 11]\n",
            "Média: 9.0\n"
          ]
        }
      ]
    },
    {
      "cell_type": "code",
      "source": [
        "5.# Escreva um programa que cria uma lista de palavras e exibe a quantidade de palavras que começam com a letra 'A'.\n",
        "\n",
        "lista_palavras = [\"Ana\", \"abelha\", \"alegria\", \"arroz\", \"amor\", \"abacaxi\"]\n",
        "contagem_a = 0\n",
        "for palavra in lista_palavras:\n",
        "    if palavra[0].upper() == \"A\":\n",
        "        contagem_a += 1\n",
        "\n",
        "print(\"Quantidade de palavras que começam com 'A':\", contagem_a)\n"
      ],
      "metadata": {
        "colab": {
          "base_uri": "https://localhost:8080/"
        },
        "id": "LovXwLXQzu2z",
        "outputId": "ca5efff2-c084-48da-c97d-51ef73744e76"
      },
      "execution_count": 25,
      "outputs": [
        {
          "output_type": "stream",
          "name": "stdout",
          "text": [
            "Quantidade de palavras que começam com 'A': 6\n"
          ]
        }
      ]
    },
    {
      "cell_type": "code",
      "source": [
        "6.# Escreva um programa que cria uma lista de strings e exibe a mais longa palavra da lista.\n",
        "\n",
        "lista_palavras = [\"banana\", \"casa\", \"bola\", \"abacaxi\", \"pneumoultramicroscopicossilicovulcanoconiótico\"]\n",
        "\n",
        "palavra_mais_longa = lista_palavras[0]\n",
        "\n",
        "for palavra in lista_palavras[1:]:\n",
        "    if len(palavra) > len(palavra_mais_longa):\n",
        "        palavra_mais_longa = palavra\n",
        "\n",
        "print(\"Palavra mais longa:\", palavra_mais_longa)\n"
      ],
      "metadata": {
        "colab": {
          "base_uri": "https://localhost:8080/"
        },
        "id": "O3dSezlv1U9u",
        "outputId": "55995f9a-a66b-4fe3-8e8d-6b52db7d1554"
      },
      "execution_count": 26,
      "outputs": [
        {
          "output_type": "stream",
          "name": "stdout",
          "text": [
            "Palavra mais longa: pneumoultramicroscopicossilicovulcanoconiótico\n"
          ]
        }
      ]
    },
    {
      "cell_type": "code",
      "source": [
        "7.# Escreva um programa que cria uma lista de números inteiros e exibe os números pares da lista.\n",
        "lista_numeros = [1, 2, 3, 4, 5, 6, 7, 8, 9, 10]\n",
        "\n",
        "print(\"Lista de números:\", lista_numeros)\n",
        "\n",
        "for numero in lista_numeros:\n",
        "    if numero % 2 == 0:\n",
        "        print(numero, end=\" \")\n",
        "\n",
        "print() # Nova linha"
      ],
      "metadata": {
        "colab": {
          "base_uri": "https://localhost:8080/"
        },
        "id": "vTZDVvSi4RR7",
        "outputId": "a3fe5cec-e207-4d97-beb9-51ec64084b4a"
      },
      "execution_count": 27,
      "outputs": [
        {
          "output_type": "stream",
          "name": "stdout",
          "text": [
            "Lista de números: [1, 2, 3, 4, 5, 6, 7, 8, 9, 10]\n",
            "2 4 6 8 10 \n"
          ]
        }
      ]
    },
    {
      "cell_type": "code",
      "source": [
        "# 8. Escreva um programa que cria uma lista de números inteiros e exibe os números ímpares da lista.\n",
        "lista_numeros = [1, 2, 3, 4, 5, 6, 7, 8, 9, 10]\n",
        "\n",
        "print(\"Lista de números:\", lista_numeros)\n",
        "for numero in lista_numeros:\n",
        "    if numero % 2 == 1:\n",
        "        print(numero, end=\" \")\n",
        "\n",
        "print() # Nova linha\n"
      ],
      "metadata": {
        "colab": {
          "base_uri": "https://localhost:8080/"
        },
        "id": "45PR34PfKJpW",
        "outputId": "95ea03bf-3198-4f99-e6ca-48b2ed7dbeac"
      },
      "execution_count": 31,
      "outputs": [
        {
          "output_type": "stream",
          "name": "stdout",
          "text": [
            "Lista de números: [1, 2, 3, 4, 5, 6, 7, 8, 9, 10]\n",
            "1 3 5 7 9 \n"
          ]
        }
      ]
    },
    {
      "cell_type": "code",
      "source": [
        "9.# Escreva um programa que cria duas listas de números inteiros e exibe os números que estão presentes em ambas as listas.\n",
        "\n",
        "lista_numeros1 = [1, 2, 3, 4, 5]\n",
        "lista_numeros2 = [3, 4, 5, 6,]\n",
        "print(\"Lista 1:\", lista_numeros1)\n",
        "print(\"Lista 2:\", lista_numeros2)\n",
        "\n",
        "numeros_em_comum = []\n",
        "for numero in lista_numeros1:\n",
        "    if numero in lista_numeros2:\n",
        "        numeros_em_comum.append(numero)\n",
        "\n",
        "print(\"Números em comum:\", numeros_em_comum)\n"
      ],
      "metadata": {
        "colab": {
          "base_uri": "https://localhost:8080/"
        },
        "id": "w0lbwdkbLP45",
        "outputId": "0c1c5ff7-9d4a-4d09-da40-83d4df143eb1"
      },
      "execution_count": 29,
      "outputs": [
        {
          "output_type": "stream",
          "name": "stdout",
          "text": [
            "Lista 1: [1, 2, 3, 4, 5]\n",
            "Lista 2: [3, 4, 5, 6]\n",
            "Números em comum: [3, 4, 5]\n"
          ]
        }
      ]
    },
    {
      "cell_type": "code",
      "source": [
        "10.#Escreva um programa que cria uma lista de números inteiros e remove todos os números repetidos, exibindo a lista resultante.\n",
        "lista_numeros = [1, 2, 3, 4, 1, 2, 5, 6, 3, 7]\n",
        "\n",
        "print(\"Lista original:\", lista_numeros)\n",
        "conjunto_numeros = set(lista_numeros)\n",
        "lista_sem_repeticao = list(conjunto_numeros)\n",
        "\n",
        "print(\"Lista sem repetição:\", lista_sem_repeticao)\n"
      ],
      "metadata": {
        "colab": {
          "base_uri": "https://localhost:8080/"
        },
        "id": "Qs9Fk9BeNKxv",
        "outputId": "5df30e63-3a13-49e8-ef9e-6224d39d2d04"
      },
      "execution_count": 30,
      "outputs": [
        {
          "output_type": "stream",
          "name": "stdout",
          "text": [
            "Lista original: [1, 2, 3, 4, 1, 2, 5, 6, 3, 7]\n",
            "Lista sem repetição: [1, 2, 3, 4, 5, 6, 7]\n"
          ]
        }
      ]
    }
  ]
}